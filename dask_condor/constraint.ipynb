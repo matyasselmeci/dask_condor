{
 "cells": [
  {
   "cell_type": "code",
   "execution_count": 86,
   "metadata": {
    "collapsed": true
   },
   "outputs": [],
   "source": [
    "class ConstraintMeta(type):\n",
    "    def __getattr__(cls, attr):\n",
    "        return lambda val: cls(\"{0} =?= \\\"{1!s}\\\"\".format(attr, val))"
   ]
  },
  {
   "cell_type": "code",
   "execution_count": 87,
   "metadata": {
    "collapsed": true
   },
   "outputs": [],
   "source": [
    "class Constraint(object):\n",
    "    __metaclass__ = ConstraintMeta\n",
    "    \n",
    "    def __init__(self, text):\n",
    "        # if the `text` is actually a Constraint, make a copy of it\n",
    "        self.text = getattr(text, 'text', text)\n",
    "    \n",
    "    def __and__(self, other):\n",
    "        return Constraint(\"({0}) && ({1})\".format(self.text, str(other)))\n",
    "    \n",
    "    def __or__(self, other):\n",
    "        return Constraint(\"({0}) || ({1})\".format(self.text, str(other)))\n",
    "    \n",
    "    @classmethod\n",
    "    def ands(cls, *constraints):\n",
    "        return reduce(lambda x, y: cls(x) & cls(y), constraints)\n",
    "    \n",
    "    @classmethod\n",
    "    def ors(cls, *constraints):\n",
    "        return reduce(lambda x, y: cls(x) | cls(y), constraints)\n",
    "    \n",
    "    def __str__(self):\n",
    "        return self.text\n",
    "    \n",
    "    def __repr__(self):\n",
    "        return 'Constraint({0!r})'.format(self.text)\n"
   ]
  },
  {
   "cell_type": "code",
   "execution_count": 88,
   "metadata": {
    "collapsed": true
   },
   "outputs": [],
   "source": [
    "c = Constraint('ClusterId == \"3\"')"
   ]
  },
  {
   "cell_type": "code",
   "execution_count": 89,
   "metadata": {},
   "outputs": [
    {
     "data": {
      "text/plain": [
       "'ClusterId == \"3\"'"
      ]
     },
     "execution_count": 89,
     "metadata": {},
     "output_type": "execute_result"
    }
   ],
   "source": [
    "c.text"
   ]
  },
  {
   "cell_type": "code",
   "execution_count": 90,
   "metadata": {},
   "outputs": [
    {
     "data": {
      "text/plain": [
       "Constraint('ClusterId == \"3\"')"
      ]
     },
     "execution_count": 90,
     "metadata": {},
     "output_type": "execute_result"
    }
   ],
   "source": [
    "c"
   ]
  },
  {
   "cell_type": "code",
   "execution_count": 91,
   "metadata": {
    "collapsed": true
   },
   "outputs": [],
   "source": [
    "c2 = Constraint('ProcId == \"4\"')"
   ]
  },
  {
   "cell_type": "code",
   "execution_count": 92,
   "metadata": {},
   "outputs": [
    {
     "data": {
      "text/plain": [
       "Constraint('(ClusterId == \"3\") && (ProcId == \"4\")')"
      ]
     },
     "execution_count": 92,
     "metadata": {},
     "output_type": "execute_result"
    }
   ],
   "source": [
    "Constraint.ands(c,c2)"
   ]
  },
  {
   "cell_type": "code",
   "execution_count": 93,
   "metadata": {},
   "outputs": [
    {
     "data": {
      "text/plain": [
       "Constraint('ClusterId == \"3\"')"
      ]
     },
     "execution_count": 93,
     "metadata": {},
     "output_type": "execute_result"
    }
   ],
   "source": [
    "c"
   ]
  },
  {
   "cell_type": "code",
   "execution_count": 94,
   "metadata": {},
   "outputs": [
    {
     "data": {
      "text/plain": [
       "Constraint('ProcId == \"4\"')"
      ]
     },
     "execution_count": 94,
     "metadata": {},
     "output_type": "execute_result"
    }
   ],
   "source": [
    "c2"
   ]
  },
  {
   "cell_type": "code",
   "execution_count": 95,
   "metadata": {},
   "outputs": [
    {
     "data": {
      "text/plain": [
       "Constraint('(ClusterId == \"3\") && (ProcId == \"4\")')"
      ]
     },
     "execution_count": 95,
     "metadata": {},
     "output_type": "execute_result"
    }
   ],
   "source": [
    "c & c2"
   ]
  },
  {
   "cell_type": "code",
   "execution_count": 96,
   "metadata": {},
   "outputs": [
    {
     "data": {
      "text/plain": [
       "Constraint('(ClusterId == \"3\") && (ProcId == \"4\")')"
      ]
     },
     "execution_count": 96,
     "metadata": {},
     "output_type": "execute_result"
    }
   ],
   "source": [
    "Constraint.ands('ClusterId == \"3\"', 'ProcId == \"4\"')"
   ]
  },
  {
   "cell_type": "code",
   "execution_count": 97,
   "metadata": {},
   "outputs": [
    {
     "data": {
      "text/plain": [
       "Constraint('(ClusterId =?= \"3\") && (ProcId =?= \"4\")')"
      ]
     },
     "execution_count": 97,
     "metadata": {},
     "output_type": "execute_result"
    }
   ],
   "source": [
    "Constraint.ClusterId(\"3\") & Constraint.ProcId(\"4\")"
   ]
  },
  {
   "cell_type": "code",
   "execution_count": null,
   "metadata": {
    "collapsed": true
   },
   "outputs": [],
   "source": []
  }
 ],
 "metadata": {
  "kernelspec": {
   "display_name": "Python 2",
   "language": "python",
   "name": "python2"
  },
  "language_info": {
   "codemirror_mode": {
    "name": "ipython",
    "version": 2
   },
   "file_extension": ".py",
   "mimetype": "text/x-python",
   "name": "python",
   "nbconvert_exporter": "python",
   "pygments_lexer": "ipython2",
   "version": "2.7.13"
  }
 },
 "nbformat": 4,
 "nbformat_minor": 2
}
